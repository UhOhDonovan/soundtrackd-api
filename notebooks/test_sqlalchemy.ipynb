{
 "cells": [
  {
   "cell_type": "code",
   "execution_count": 4,
   "metadata": {},
   "outputs": [],
   "source": [
    "from sqlmodel import Field, Session, SQLModel, create_engine, select\n",
    "from typing import Annotated\n",
    "from sqlalchemy import inspect"
   ]
  },
  {
   "cell_type": "code",
   "execution_count": 2,
   "metadata": {},
   "outputs": [],
   "source": [
    "user = \"root\"\n",
    "password = \"password\"\n",
    "host = \"127.0.0.1\"\n",
    "port = 3306\n",
    "database = \"soundtrackd\"\n",
    "\n",
    "SQLALCHEMY_DATABASE_URL = \"mysql+pymysql://{0}:{1}@{2}:{3}/{4}\".format(\n",
    "    user, password, host, port, database\n",
    ")"
   ]
  },
  {
   "cell_type": "code",
   "execution_count": 5,
   "metadata": {},
   "outputs": [],
   "source": [
    "\n",
    "engine = create_engine(SQLALCHEMY_DATABASE_URL)"
   ]
  },
  {
   "cell_type": "code",
   "execution_count": 6,
   "metadata": {},
   "outputs": [],
   "source": [
    "inspector = inspect(engine)\n",
    "db_tables = set(inspector.get_table_names())\n",
    "\n",
    "# Get tables defined in SQLModel\n",
    "model_tables = set(SQLModel.metadata.tables.keys())"
   ]
  },
  {
   "cell_type": "code",
   "execution_count": 8,
   "metadata": {},
   "outputs": [
    {
     "data": {
      "text/plain": [
       "{'album',\n",
       " 'appears_on',\n",
       " 'artist',\n",
       " 'follows_artist',\n",
       " 'follows_user',\n",
       " 'released_album',\n",
       " 'released_track',\n",
       " 'review',\n",
       " 'review_comment',\n",
       " 'track',\n",
       " 'track_comment',\n",
       " 'user'}"
      ]
     },
     "execution_count": 8,
     "metadata": {},
     "output_type": "execute_result"
    }
   ],
   "source": [
    "db_tables"
   ]
  }
 ],
 "metadata": {
  "kernelspec": {
   "display_name": ".venv",
   "language": "python",
   "name": "python3"
  },
  "language_info": {
   "codemirror_mode": {
    "name": "ipython",
    "version": 3
   },
   "file_extension": ".py",
   "mimetype": "text/x-python",
   "name": "python",
   "nbconvert_exporter": "python",
   "pygments_lexer": "ipython3",
   "version": "3.11.4"
  }
 },
 "nbformat": 4,
 "nbformat_minor": 2
}
